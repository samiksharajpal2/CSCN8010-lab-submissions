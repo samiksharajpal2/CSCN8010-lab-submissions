{
 "cells": [
  {
   "cell_type": "markdown",
   "metadata": {},
   "source": [
    "## Name: Samiksha Rajpal\n",
    "\n",
    "## Student Id: 8908982"
   ]
  },
  {
   "cell_type": "markdown",
   "metadata": {},
   "source": [
    "### Lab 8 - A Dot product and a Matrix Multiplication in PyTorch and Tensorflow"
   ]
  },
  {
   "cell_type": "markdown",
   "metadata": {},
   "source": [
    "1. Setup Tensorflow and PyTorch based on the instructions in ./setup/README.md\n",
    "\n",
    "  - Done\n"
   ]
  },
  {
   "cell_type": "markdown",
   "metadata": {},
   "source": [
    "2. Using PyTorch:\n",
    "- Calculate the dot product between two vectors each of length 3 (1.5 points)\n",
    "- Calculate the matrix multiplication of two 2-dimensional matrices, each with a size of (2,2) (1.5 points)"
   ]
  },
  {
   "cell_type": "code",
   "execution_count": 1,
   "metadata": {},
   "outputs": [
    {
     "name": "stdout",
     "output_type": "stream",
     "text": [
      "Dot Product: 1556.0\n"
     ]
    }
   ],
   "source": [
    "#part a : dot product of 2 vectors\n",
    "\n",
    "# using pytorch\n",
    "\n",
    "import torch\n",
    "\n",
    "# Defining two vectors of length 3\n",
    "vec1 = torch.tensor([2, 20, 95], dtype=torch.float32)\n",
    "vec2 = torch.tensor([3, 30, 10], dtype=torch.float32)\n",
    "\n",
    "# Calculatint the dot product\n",
    "dotproduct = torch.dot(vec1, vec2)\n",
    "\n",
    "print(\"Dot Product:\", dotproduct.item())\n"
   ]
  },
  {
   "cell_type": "code",
   "execution_count": 2,
   "metadata": {},
   "outputs": [
    {
     "name": "stdout",
     "output_type": "stream",
     "text": [
      "First Matrix:\n",
      "tensor([[ 2., 20.],\n",
      "        [22.,  4.]])\n",
      "\n",
      "Second Matrix:\n",
      "tensor([[ 3., 30.],\n",
      "        [10.,  1.]])\n",
      "\n",
      "Product Matrix C:\n",
      "tensor([[206.,  80.],\n",
      "        [106., 664.]])\n"
     ]
    }
   ],
   "source": [
    "# part b: matrix multipilication of 2 dimensional matrxi using pytorch\n",
    "\n",
    "import torch\n",
    "\n",
    "# Defining the two matrices\n",
    "matA = torch.tensor([[2.0, 20.0], [22.0, 4.0]])\n",
    "matB = torch.tensor([[3.0, 30.0], [10.0, 1.0]])\n",
    "\n",
    "# Matrix multiplication\n",
    "matC = torch.mm(matA, matB)\n",
    "\n",
    "\n",
    "print(\"First Matrix:\")\n",
    "print(matA)\n",
    "\n",
    "print(\"\\nSecond Matrix:\")\n",
    "print(matB)\n",
    "\n",
    "print(\"\\nProduct Matrix C:\")\n",
    "print(matC)\n"
   ]
  }
 ],
 "metadata": {
  "kernelspec": {
   "display_name": "pytorch_metal",
   "language": "python",
   "name": "python3"
  },
  "language_info": {
   "codemirror_mode": {
    "name": "ipython",
    "version": 3
   },
   "file_extension": ".py",
   "mimetype": "text/x-python",
   "name": "python",
   "nbconvert_exporter": "python",
   "pygments_lexer": "ipython3",
   "version": "3.10.10"
  },
  "orig_nbformat": 4
 },
 "nbformat": 4,
 "nbformat_minor": 2
}
