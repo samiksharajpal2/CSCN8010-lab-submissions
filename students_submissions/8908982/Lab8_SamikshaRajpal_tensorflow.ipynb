{
 "cells": [
  {
   "cell_type": "markdown",
   "metadata": {},
   "source": [
    "## Name: Samiksha Rajpal\n",
    "\n",
    "## Student Id: 8908982"
   ]
  },
  {
   "cell_type": "markdown",
   "metadata": {},
   "source": [
    "### Lab 8 - A Dot product and a Matrix Multiplication in PyTorch and Tensorflow"
   ]
  },
  {
   "cell_type": "markdown",
   "metadata": {},
   "source": [
    "1. Setup Tensorflow and PyTorch based on the instructions in ./setup/README.md\n",
    "\n",
    "  - Done\n"
   ]
  },
  {
   "cell_type": "markdown",
   "metadata": {},
   "source": [
    "\n",
    "3. Using Tensorflow:\n",
    "- Calculate the dot product between the same vectors as above (re-define them in Tensorflow) (1.5 points)\n",
    "- Calculate the matrix multiplication of the same matrics as above (re-define them in Tensorflow) (1.5 points)"
   ]
  },
  {
   "cell_type": "code",
   "execution_count": 1,
   "metadata": {},
   "outputs": [
    {
     "name": "stdout",
     "output_type": "stream",
     "text": [
      "Dot Product: 1556.0\n"
     ]
    },
    {
     "name": "stderr",
     "output_type": "stream",
     "text": [
      "2023-11-11 19:05:41.153548: I metal_plugin/src/device/metal_device.cc:1154] Metal device set to: Apple M2 Pro\n",
      "2023-11-11 19:05:41.153574: I metal_plugin/src/device/metal_device.cc:296] systemMemory: 16.00 GB\n",
      "2023-11-11 19:05:41.153582: I metal_plugin/src/device/metal_device.cc:313] maxCacheSize: 5.33 GB\n",
      "2023-11-11 19:05:41.153670: I tensorflow/core/common_runtime/pluggable_device/pluggable_device_factory.cc:306] Could not identify NUMA node of platform GPU ID 0, defaulting to 0. Your kernel may not have been built with NUMA support.\n",
      "2023-11-11 19:05:41.153735: I tensorflow/core/common_runtime/pluggable_device/pluggable_device_factory.cc:272] Created TensorFlow device (/job:localhost/replica:0/task:0/device:GPU:0 with 0 MB memory) -> physical PluggableDevice (device: 0, name: METAL, pci bus id: <undefined>)\n"
     ]
    }
   ],
   "source": [
    "\n",
    "# part a : dot product of two vectors using tensorflow\n",
    "\n",
    "import tensorflow as tf\n",
    "\n",
    "# Defining two vectors of length 3 as defined above for pytorch\n",
    "vec1 = tf.constant([2, 20, 95], dtype=tf.float32)\n",
    "vec2 = tf.constant([3, 30, 10], dtype=tf.float32)\n",
    "\n",
    "# Calculating the dot product\n",
    "dotproduct = tf.tensordot(vec1, vec2, axes=1)\n",
    "\n",
    "print(\"Dot Product:\", dotproduct.numpy())\n",
    "\n",
    "\n"
   ]
  },
  {
   "cell_type": "code",
   "execution_count": 2,
   "metadata": {},
   "outputs": [
    {
     "name": "stdout",
     "output_type": "stream",
     "text": [
      "First Matrix:\n",
      "[[ 2. 20.]\n",
      " [22.  4.]]\n",
      "\n",
      "Second Matrix:\n",
      "[[ 3. 30.]\n",
      " [10.  1.]]\n",
      "\n",
      "Product Matrix C:\n",
      "[[206.  80.]\n",
      " [106. 664.]]\n"
     ]
    }
   ],
   "source": [
    "# part b: matrix multipilication of 2 dimensional matrxi using tensorflow\n",
    "\n",
    "import tensorflow as tf\n",
    "\n",
    "# Defining the two matrices\n",
    "matA = tf.constant([[2.0, 20.0], [22.0, 4.0]])\n",
    "matB = tf.constant([[3.0, 30.0], [10.0, 1.0]])\n",
    "\n",
    "# Matrix multiplication\n",
    "matC = tf.matmul(matA, matB)\n",
    "\n",
    "print(\"First Matrix:\")\n",
    "print(matA.numpy())\n",
    "\n",
    "print(\"\\nSecond Matrix:\")\n",
    "print(matB.numpy())\n",
    "\n",
    "print(\"\\nProduct Matrix C:\")\n",
    "print(matC.numpy())\n"
   ]
  }
 ],
 "metadata": {
  "kernelspec": {
   "display_name": "pytorch_metal",
   "language": "python",
   "name": "python3"
  },
  "language_info": {
   "codemirror_mode": {
    "name": "ipython",
    "version": 3
   },
   "file_extension": ".py",
   "mimetype": "text/x-python",
   "name": "python",
   "nbconvert_exporter": "python",
   "pygments_lexer": "ipython3",
   "version": "3.10.10"
  },
  "orig_nbformat": 4
 },
 "nbformat": 4,
 "nbformat_minor": 2
}
